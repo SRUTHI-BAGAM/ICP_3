{
 "cells": [
  {
   "cell_type": "code",
   "execution_count": 1,
   "id": "ffb82ec3",
   "metadata": {},
   "outputs": [
    {
     "name": "stdout",
     "output_type": "stream",
     "text": [
      "Total number of employees: 4\n",
      "Average salary: 76250.0\n"
     ]
    }
   ],
   "source": [
    "class Employee:\n",
    "    num_employees = 0\n",
    "\n",
    "    def __init__(self, name, family, salary, department):\n",
    "        self.name = name\n",
    "        self.family = family\n",
    "        self.salary = salary\n",
    "        self.department = department\n",
    "        Employee.num_employees += 1\n",
    "\n",
    "    @staticmethod\n",
    "    def average_salary(employees):\n",
    "        total_salary = sum(emp.salary for emp in employees)\n",
    "        return total_salary / len(employees)\n",
    "\n",
    "class FulltimeEmployee(Employee):\n",
    "    def __init__(self, name, family, salary, department, experience):\n",
    "        super().__init__(name, family, salary, department)\n",
    "        self.experience = experience\n",
    "\n",
    "employee1 = Employee(\"John Doe\", \"Family A\", 60000, \"HR\")\n",
    "employee2 = Employee(\"Jane Smith\", \"Family B\", 75000, \"Finance\")\n",
    "\n",
    "fulltime_employee1 = FulltimeEmployee(\"Alice Johnson\", \"Family C\", 80000, \"IT\", 3)\n",
    "fulltime_employee2 = FulltimeEmployee(\"Bob Williams\", \"Family D\", 90000, \"Engineering\", 5)\n",
    "\n",
    "employees = [employee1, employee2, fulltime_employee1, fulltime_employee2]\n",
    "avg_salary = Employee.average_salary(employees)\n",
    "\n",
    "print(\"Total number of employees:\", Employee.num_employees)\n",
    "print(\"Average salary:\", avg_salary)"
   ]
  },
  {
   "cell_type": "code",
   "execution_count": 2,
   "id": "54c8ec7b",
   "metadata": {},
   "outputs": [
    {
     "name": "stdout",
     "output_type": "stream",
     "text": [
      "Original array:\n",
      "[ 7.94818332 19.04774972  4.81872563 18.61887148  9.81530951  9.65078223\n",
      "  8.87348601  9.65999958 15.6848486  12.15396498  9.68875192 12.57378979\n",
      "  4.82342076  5.63368273  4.0958622   6.35173845 19.02808727 19.00166019\n",
      " 18.10165271  2.89336494]\n",
      "\n",
      "Reshaped array:\n",
      "[[ 7.94818332  0.          4.81872563 18.61887148  9.81530951]\n",
      " [ 9.65078223  8.87348601  9.65999958  0.         12.15396498]\n",
      " [ 9.68875192  0.          4.82342076  5.63368273  4.0958622 ]\n",
      " [ 6.35173845  0.         19.00166019 18.10165271  2.89336494]]\n"
     ]
    }
   ],
   "source": [
    "import numpy as np\n",
    "random_vector = np.random.uniform(1, 20, size=20)\n",
    "print(\"Original array:\")\n",
    "print(random_vector)\n",
    "\n",
    "reshaped_array = random_vector.reshape(4, 5)\n",
    "\n",
    "max_indices = np.argmax(reshaped_array, axis=1)\n",
    "\n",
    "reshaped_array[np.arange(4), max_indices] = 0\n",
    "\n",
    "print(\"\\nReshaped array:\")\n",
    "print(reshaped_array)"
   ]
  },
  {
   "cell_type": "code",
   "execution_count": null,
   "id": "6e32fd72",
   "metadata": {},
   "outputs": [],
   "source": []
  }
 ],
 "metadata": {
  "kernelspec": {
   "display_name": "Python 3 (ipykernel)",
   "language": "python",
   "name": "python3"
  },
  "language_info": {
   "codemirror_mode": {
    "name": "ipython",
    "version": 3
   },
   "file_extension": ".py",
   "mimetype": "text/x-python",
   "name": "python",
   "nbconvert_exporter": "python",
   "pygments_lexer": "ipython3",
   "version": "3.11.5"
  }
 },
 "nbformat": 4,
 "nbformat_minor": 5
}
